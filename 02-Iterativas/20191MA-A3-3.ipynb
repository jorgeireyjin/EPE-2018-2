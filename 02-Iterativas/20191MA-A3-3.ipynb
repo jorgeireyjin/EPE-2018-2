{
 "cells": [
  {
   "cell_type": "markdown",
   "metadata": {},
   "source": [
    "Hacer un programa que evalúe dos números, el programa deberá hacer lo siguiente:\n",
    "1.\tEvaluar cuál es el número mayor\n",
    "2.\tEvaluar cuantos múltiplos del número menor hay en el rango desde 1 hasta el número mayor\n",
    "\n"
   ]
  },
  {
   "cell_type": "code",
   "execution_count": null,
   "metadata": {},
   "outputs": [],
   "source": [
    "def NumeroMayor(numero1 , numero2)\n",
    "\n",
    "end\n",
    "\n",
    "def ContadorMultiplos(numero1,numero2)\n",
    "\n",
    "end \n",
    "\n",
    "#--- zona de test ----\n",
    "\n",
    "def test_NumeroMayor\n",
    "    print validate(9, NumeroMayor(9,4)) \n",
    "    print validate(23, NumeroMayor(23,5))\n",
    "    print validate(144, NumeroMayor(144,6))\n",
    "    print validate(256, NumeroMayor(177,256))\n",
    "end\n",
    "\n",
    "def test_ContadorMultiplos\n",
    "    print validate(6, ContadorMultiplos(124,20))\n",
    "  print validate(5, ContadorMultiplos(4,20))\n",
    "  print validate(5, ContadorMultiplos(100,20))\n",
    "  print validate(28, ContadorMultiplos(9,256))\n",
    "end\n",
    "\n",
    "def validate (expected, value)\n",
    " expected == value ? \".\" : \"F\"\n",
    "end\n",
    "\n",
    "def test\n",
    "  puts \"Test de prueba del programa\"\n",
    "  puts \"---------------------------\"\n",
    "  test_NumeroMayor\n",
    "  puts \"\"\n",
    "  test_ContadorMultiplos\n",
    "  puts \" \"\n",
    "end\n",
    "\n",
    "test"
   ]
  }
 ],
 "metadata": {
  "kernelspec": {
   "display_name": "Ruby 2.5.1",
   "language": "ruby",
   "name": "ruby"
  },
  "language_info": {
   "file_extension": ".rb",
   "mimetype": "application/x-ruby",
   "name": "ruby",
   "version": "2.5.1"
  }
 },
 "nbformat": 4,
 "nbformat_minor": 2
}
