{
 "cells": [
  {
   "cell_type": "markdown",
   "metadata": {},
   "source": [
    "Dado un numero entero, se requiere calcular:\n",
    "1.\tEl mayor digito.\n",
    "2.\tEl menor digito. \n"
   ]
  },
  {
   "cell_type": "code",
   "execution_count": null,
   "metadata": {},
   "outputs": [],
   "source": [
    "#encoding:UTF-8\n",
    "def calculaMenorDigito(numero)\n",
    "\n",
    "end\n",
    "\n",
    "def calculaMayorDigito(numero)\n",
    "\n",
    "end\n",
    "\n",
    "#--- zona de test ----\n",
    "\n",
    "def validate(expected, value)    \n",
    "  expected == value ? \".\" : \"F\"\n",
    "end\n",
    "\n",
    "def test_calculaMenorDigito\n",
    "    print validate(2,calculaMenorDigito(586247))\n",
    "    print validate(3,calculaMenorDigito(9586347))\n",
    "    print validate(0,calculaMenorDigito(0))\n",
    "    print validate(0,calculaMenorDigito(280963))\n",
    "end\n",
    "\n",
    "def test_calculaMayorDigito\n",
    "    print validate(8,calculaMayorDigito(586247))\n",
    "    print validate(9,calculaMayorDigito(9586347))\n",
    "    print validate(0,calculaMayorDigito(0))\n",
    "    print validate(7,calculaMayorDigito(250763))\n",
    "end\n",
    "\n",
    "def test  \n",
    "  puts \"Test de prueba del programa\"\n",
    "  puts \"---------------------------\"\n",
    "  test_calculaMenorDigito\n",
    "  puts \" \"\n",
    "  test_calculaMayorDigito\n",
    "  puts \" \"\n",
    "\n",
    "end\n",
    "test"
   ]
  }
 ],
 "metadata": {
  "kernelspec": {
   "display_name": "Ruby 2.5.1",
   "language": "ruby",
   "name": "ruby"
  },
  "language_info": {
   "file_extension": ".rb",
   "mimetype": "application/x-ruby",
   "name": "ruby",
   "version": "2.5.1"
  }
 },
 "nbformat": 4,
 "nbformat_minor": 2
}
