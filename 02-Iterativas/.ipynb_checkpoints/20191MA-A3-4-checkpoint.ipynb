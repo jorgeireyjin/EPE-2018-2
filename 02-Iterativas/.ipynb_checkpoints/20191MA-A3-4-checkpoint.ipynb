{
 "cells": [
  {
   "cell_type": "markdown",
   "metadata": {},
   "source": [
    "Se tienen las siguientes notas de los estudiantes en un periodo escolar.\n",
    "<table>\n",
    "    <tr>\n",
    "        <th>Co</th>\n",
    "        <th>Bimestre 1</th>\n",
    "        <th>Bimestre 2</th>\n",
    "        <th>Bimestre 3</th>\n",
    "        <th>Bimestre 4</th>\n",
    "    </tr>\n",
    "    <tr>\n",
    "        <td>Juan</td>\n",
    "        <td>20</td>\n",
    "        <td>15</td>\n",
    "        <td>10</td>\n",
    "        <td>12</td>\n",
    "    </tr>\n",
    "    <tr>\n",
    "        <td>Pedro</td>\n",
    "        <td>16</td>\n",
    "        <td>10</td>\n",
    "        <td>12</td>\n",
    "        <td>10</td>\n",
    "    </tr>\n",
    "    <tr>\n",
    "        <td>Hector</td>\n",
    "        <td>8</td>\n",
    "        <td>10</td>\n",
    "        <td>12</td>\n",
    "        <td>20</td>\n",
    "    </tr>\n",
    "</table>\n",
    "\n",
    "- Calcular el promedio de las notas de los alumnos.\n",
    "- Devolver la suma de los dígitos de la parte entera del promedio.\n"
   ]
  },
  {
   "cell_type": "code",
   "execution_count": 2,
   "metadata": {},
   "outputs": [
    {
     "name": "stdout",
     "output_type": "stream",
     "text": [
      "Test de prueba del programa\n",
      "---------------------------\n",
      "FFF\n",
      "FFF \n"
     ]
    }
   ],
   "source": [
    "def ObtenerNotas(bimestre,alumno)\n",
    "\n",
    "end\n",
    "\n",
    "def CalcularPromedio(alumno)\n",
    "\n",
    "end \n",
    "\n",
    "def CalcularSumaDigitos(alumno)\n",
    "\n",
    "end\n",
    "\n",
    "#--- zona de test ----\n",
    "\n",
    "def test_CalcularPromedio\n",
    "  print validate(14.25, CalcularPromedio(\"Juan\")) \n",
    "  print validate(12.0, CalcularPromedio(\"Pedro\"))\n",
    "  print validate(12.5, CalcularPromedio(\"Hector\"))\n",
    "end  \n",
    "def test_CalcularSumaDigitos\n",
    "    print validate(5, CalcularSumaDigitos(\"Juan\"))\n",
    "    print validate(3, CalcularSumaDigitos(\"Pedro\"))\n",
    "    print validate(3, CalcularSumaDigitos(\"Hector\"))\n",
    "end\n",
    "\n",
    "def validate (expected, value)\n",
    " expected == value ? \".\" : \"F\"\n",
    "end\n",
    "\n",
    "def test\n",
    "  puts \"Test de prueba del programa\"\n",
    "  puts \"---------------------------\"\n",
    "  test_CalcularPromedio\n",
    "  puts \"\"  \n",
    "  test_CalcularSumaDigitos\n",
    "  puts \" \"\n",
    "end\n",
    "\n",
    "test"
   ]
  },
  {
   "cell_type": "code",
   "execution_count": null,
   "metadata": {},
   "outputs": [],
   "source": []
  }
 ],
 "metadata": {
  "kernelspec": {
   "display_name": "Ruby 2.5.1",
   "language": "ruby",
   "name": "ruby"
  },
  "language_info": {
   "file_extension": ".rb",
   "mimetype": "application/x-ruby",
   "name": "ruby",
   "version": "2.5.1"
  }
 },
 "nbformat": 4,
 "nbformat_minor": 2
}
