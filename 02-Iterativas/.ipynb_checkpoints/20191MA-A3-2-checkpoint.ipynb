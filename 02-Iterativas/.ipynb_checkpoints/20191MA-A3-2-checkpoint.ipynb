{
 "cells": [
  {
   "cell_type": "markdown",
   "metadata": {},
   "source": [
    "Desarrollar un programa que dado un numero entero :\n",
    "- Calcule la cantidad de múltiplos de 3.\n",
    "- Calcular la suma de dígitos.\n"
   ]
  },
  {
   "cell_type": "code",
   "execution_count": null,
   "metadata": {},
   "outputs": [],
   "source": [
    "def Multiplos(numero)\n",
    "\n",
    "end\n",
    "\n",
    "def SumaDigitos(numero)\n",
    " \n",
    "end\n",
    "\n",
    "#--- zona de test ----\n",
    "\n",
    "def test_Multiplos\n",
    "    print validate(150, Multiplos(450)) \n",
    "    print validate(50, Multiplos(150)) \n",
    "    print validate(15, Multiplos(45)) \n",
    "end\n",
    "\n",
    "def test_MayorSuma\n",
    "    print validate(9, SumaDigitos(450))\n",
    "    print validate(6, SumaDigitos(150))\n",
    "    print validate(9, SumaDigitos(45))\n",
    "end\n",
    "\n",
    "def validate (expected, value)\n",
    " expected == value ? \".\" : \"F\"\n",
    "end\n",
    "\n",
    "def test\n",
    "  puts \"Test de prueba del programa\"\n",
    "  puts \"---------------------------\"\n",
    "  test_Multiplos\n",
    "  puts \"\"\n",
    "  test_MayorSuma\n",
    "  puts \" \"\n",
    "end\n",
    "\n",
    "test"
   ]
  }
 ],
 "metadata": {
  "kernelspec": {
   "display_name": "Ruby 2.5.1",
   "language": "ruby",
   "name": "ruby"
  },
  "language_info": {
   "file_extension": ".rb",
   "mimetype": "application/x-ruby",
   "name": "ruby",
   "version": "2.5.1"
  }
 },
 "nbformat": 4,
 "nbformat_minor": 2
}
