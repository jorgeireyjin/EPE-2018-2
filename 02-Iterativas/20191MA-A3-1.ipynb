{
 "cells": [
  {
   "cell_type": "markdown",
   "metadata": {},
   "source": [
    "El valor de A esta representado por la siguiente expresión :\n",
    "\n",
    "$\\frac{n!}{x + (x+1) + ... + (x+n)}$\n",
    "  \n",
    "- Desarrollar el subprograma que calcule la factorial de un número (n)\n",
    "- Desarrollar el subprograma que halle el valor de A para un determinado valor de x y n.\n"
   ]
  },
  {
   "cell_type": "code",
   "execution_count": 2,
   "metadata": {},
   "outputs": [
    {
     "name": "stdout",
     "output_type": "stream",
     "text": [
      "Test de prueba del programa\n",
      "---------------------------\n",
      "FFFF\n",
      "FF \n"
     ]
    }
   ],
   "source": [
    "#encoding:UTF-8\n",
    "def factorial(num)\n",
    "\n",
    "end \n",
    "\n",
    "def calculaA(x,n)\n",
    "\n",
    "end\n",
    "\n",
    "#--- zona de test ----\n",
    "\n",
    "def validate(expected, value)    \n",
    "  expected == value ? \".\" : \"F\"\n",
    "end\n",
    "\n",
    "def test_factorial\n",
    "    print validate(120,factorial(5))\n",
    "    print validate(5040,factorial(7))\n",
    "    print validate(6,factorial(3))\n",
    "    print validate(1,factorial(0))\n",
    "end\n",
    "\n",
    "def test_calculaA\n",
    "    print validate(2.67,calculaA(2.0,4))\n",
    "    print validate(0.67,calculaA(2.0,3))\n",
    "end\n",
    "\n",
    "def test\n",
    "   \n",
    "  puts \"Test de prueba del programa\"\n",
    "  puts \"---------------------------\"\n",
    "  test_factorial\n",
    "  puts \"\"\n",
    "  test_calculaA\n",
    "  puts \" \"\n",
    "end\n",
    "test"
   ]
  },
  {
   "cell_type": "code",
   "execution_count": null,
   "metadata": {},
   "outputs": [],
   "source": []
  }
 ],
 "metadata": {
  "kernelspec": {
   "display_name": "Ruby 2.5.1",
   "language": "ruby",
   "name": "ruby"
  },
  "language_info": {
   "file_extension": ".rb",
   "mimetype": "application/x-ruby",
   "name": "ruby",
   "version": "2.5.1"
  }
 },
 "nbformat": 4,
 "nbformat_minor": 2
}
