{
 "cells": [
  {
   "cell_type": "markdown",
   "metadata": {},
   "source": [
    "## Ejemplo : Sentencias Secuenciales\n",
    "Una tienda de automóviles quiere obtener el valor de la cuota mensual que un cliente tendría que pagar a la hora de adquirir uno de sus vehículos, para ello se tiene el valor del auto, el valor de cuota inicial que el cliente va a abonar y luego el saldo se debe dividir entre la cantidad de meses que el cliente ofrece para terminar de pagar el valor total del auto. "
   ]
  },
  {
   "cell_type": "markdown",
   "metadata": {},
   "source": [
    "### La plantilla es:"
   ]
  },
  {
   "cell_type": "code",
   "execution_count": null,
   "metadata": {},
   "outputs": [],
   "source": [
    "def calcular_cuota_mensual(valor, inicial, meses)\n",
    "\n",
    "end\n",
    "\n",
    "#--- zona de test ----\n",
    "\n",
    "def test_calcular_cuota_mensual\n",
    "    print validate(350.00, calcular_cuota_mensual(9900.0,1500.0,24))\n",
    "    print validate(1058.33, calcular_cuota_mensual(15500.0,2800.0,12))\n",
    "\tprint validate(497.22, calcular_cuota_mensual(21800.0,3900.0,36))\n",
    "end\n",
    "\n",
    "def validate (expected, value)\n",
    " expected == value ? \".\" : \"F\"\n",
    "end\n",
    "\n",
    "def test\n",
    "  puts \"Test de prueba del programa\"\n",
    "  puts \"---------------------------\"\n",
    "  test_calcular_cuota_mensual\n",
    "  puts \" \"\n",
    "end\n",
    "\n",
    "test"
   ]
  },
  {
   "cell_type": "markdown",
   "metadata": {},
   "source": [
    "#### Contactanos\n",
    "![https://www.facebook.com/instructorenprogramacion/](qr.png \"https://www.facebook.com/instructorenprogramacion/\")"
   ]
  }
 ],
 "metadata": {
  "kernelspec": {
   "display_name": "Ruby 2.5.1",
   "language": "ruby",
   "name": "ruby"
  },
  "language_info": {
   "file_extension": ".rb",
   "mimetype": "application/x-ruby",
   "name": "ruby",
   "version": "2.5.1"
  }
 },
 "nbformat": 4,
 "nbformat_minor": 2
}
