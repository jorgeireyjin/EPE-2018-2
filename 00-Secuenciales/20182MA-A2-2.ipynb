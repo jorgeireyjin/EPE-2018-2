{
 "cells": [
  {
   "cell_type": "markdown",
   "metadata": {},
   "source": [
    "## Ejemplo : Sentencias Secuenciales\n",
    "Una empresa está evaluando una nueva forma de cálculo para obtener el valor de la comisión que se le va a abonar a un empleado, este nuevo porcentaje de cálculo es del 8% sobre sus ventas. La empresa necesita obtener el valor acumulado del mes, incluyendo su sueldo y así obtener el monto exacto a pagar al empleado a fin de mes."
   ]
  },
  {
   "cell_type": "markdown",
   "metadata": {},
   "source": [
    "### La plantilla es:"
   ]
  },
  {
   "cell_type": "code",
   "execution_count": 1,
   "metadata": {},
   "outputs": [
    {
     "name": "stdout",
     "output_type": "stream",
     "text": [
      "Test de prueba del programa\n",
      "---------------------------\n",
      "FFF \n"
     ]
    }
   ],
   "source": [
    "def calcular_sueldo(sueldo,ventas)\n",
    "\n",
    "end\n",
    "\n",
    "\n",
    "#--- zona de test ----\n",
    "\n",
    "def test_calcular_sueldo\n",
    "    print validate(920.00, calcular_sueldo(800,1500))\n",
    "    print validate(732.00, calcular_sueldo(500,2900))\n",
    "\tprint validate(1072.00, calcular_sueldo(1000,900))\n",
    "end\n",
    "\n",
    "def validate (expected, value)\n",
    " expected == value ? \".\" : \"F\"\n",
    "end\n",
    "\n",
    "def test\n",
    "  puts \"Test de prueba del programa\"\n",
    "  puts \"---------------------------\"\n",
    "  test_calcular_sueldo\n",
    "  puts \" \"\n",
    "end\n",
    "\n",
    "test"
   ]
  },
  {
   "cell_type": "markdown",
   "metadata": {},
   "source": [
    "#### Contactanos\n",
    "![https://www.facebook.com/instructorenprogramacion/](qr.png \"https://www.facebook.com/instructorenprogramacion/\")"
   ]
  },
  {
   "cell_type": "code",
   "execution_count": null,
   "metadata": {},
   "outputs": [],
   "source": []
  }
 ],
 "metadata": {
  "kernelspec": {
   "display_name": "Ruby 2.5.1",
   "language": "ruby",
   "name": "ruby"
  },
  "language_info": {
   "file_extension": ".rb",
   "mimetype": "application/x-ruby",
   "name": "ruby",
   "version": "2.5.1"
  }
 },
 "nbformat": 4,
 "nbformat_minor": 2
}
