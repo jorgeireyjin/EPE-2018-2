{
 "cells": [
  {
   "cell_type": "markdown",
   "metadata": {},
   "source": [
    "Una inmobiliaria desea financiar el pago de la cuota inicial. Para ello se tiene la cuota inicial, la cantidad de meses que se va a financiar y la tasa de interes simple, por ejemplo\n",
    "\n",
    "Si la cuota inicial del terreno vale 6,000 dolares y lo van a financiar en 6 meses con un interes de 4%, la cuota mensual seria 1040 dolares. Desarrollar un programa que me devuelva la cuota mensual.\n",
    "\n"
   ]
  },
  {
   "cell_type": "code",
   "execution_count": null,
   "metadata": {},
   "outputs": [],
   "source": [
    "# Escribe aqui las sentencias secuenciales\n",
    "\n",
    "\n",
    "\n",
    "\n"
   ]
  }
 ],
 "metadata": {
  "kernelspec": {
   "display_name": "Ruby 2.5.1",
   "language": "ruby",
   "name": "ruby"
  },
  "language_info": {
   "file_extension": ".rb",
   "mimetype": "application/x-ruby",
   "name": "ruby",
   "version": "2.5.1"
  }
 },
 "nbformat": 4,
 "nbformat_minor": 2
}
