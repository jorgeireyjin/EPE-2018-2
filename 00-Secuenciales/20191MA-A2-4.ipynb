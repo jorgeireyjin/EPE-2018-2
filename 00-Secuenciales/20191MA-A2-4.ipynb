{
 "cells": [
  {
   "cell_type": "markdown",
   "metadata": {},
   "source": [
    "Desarrollar un programa que muestre un mensaje de saludo para el trabajador, de la siguiente manera:\n",
    "\n",
    "Datos:\n",
    "Nombre = Juan Pérez”\n",
    "Meses = 125\n",
    "País = “Bolivia”\n",
    "Estado = “soltero”\n",
    "Hobby = “natación”\n",
    "\n",
    "\n",
    "“Hola soy  Juan Perez de Bolivia, tengo 10 años y 5 meses. Actualmente estoy soltero, y mi principal hobby es la natación”\n",
    "\n"
   ]
  },
  {
   "cell_type": "code",
   "execution_count": null,
   "metadata": {},
   "outputs": [],
   "source": [
    "# Escribe aqui las sentencias secuenciales\n",
    "\n",
    "\n",
    "\n",
    "\n"
   ]
  }
 ],
 "metadata": {
  "kernelspec": {
   "display_name": "Ruby 2.5.1",
   "language": "ruby",
   "name": "ruby"
  },
  "language_info": {
   "file_extension": ".rb",
   "mimetype": "application/x-ruby",
   "name": "ruby",
   "version": "2.5.1"
  }
 },
 "nbformat": 4,
 "nbformat_minor": 2
}
