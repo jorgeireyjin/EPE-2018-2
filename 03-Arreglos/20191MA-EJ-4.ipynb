{
 "cells": [
  {
   "cell_type": "markdown",
   "metadata": {},
   "source": [
    "### Pregunta 4\n",
    "\n",
    "Se solicita realizar las siguientes evaluaciones a una cadena de caracteres mediante el uso de algoritmos\n",
    "\n",
    "1)\tConteo de palabras dentro de una oración.\n",
    "2)\tCuantas veces se repite una letra dentro de una oración.\n",
    "3)\tCuantos números existen dentro de una oración.\n"
   ]
  },
  {
   "cell_type": "code",
   "execution_count": 2,
   "metadata": {},
   "outputs": [
    {
     "name": "stdout",
     "output_type": "stream",
     "text": [
      "Test de prueba del programa\n",
      "---------------------------\n",
      "FFFFFFFFFFFF\n"
     ]
    }
   ],
   "source": [
    "def obtenerCantidadRepetidas(frase,letra)\n",
    "\n",
    "end\n",
    "\n",
    "def obtenerCantidadPalabras(frase)\n",
    "\n",
    "end\n",
    "\n",
    "def obtenerCantidadNumeros(frase)\n",
    "\n",
    "end\n",
    "\n",
    "#--- zona de test ----\n",
    "\n",
    "def validate(expected, value)    \n",
    "  expected == value ? \".\" : \"F\"\n",
    "end\n",
    "\n",
    "@frase1 = \"Hola como estas\"\n",
    "@frase2 = \"Estoy estudiando Ingenieria Industrial en la UPC\"\n",
    "@frase3 = \"Tengo 32 años, estoy en 5to ciclo y llevando 4 cursos\"\n",
    "@frase4 = \"Mi promedio ponderado anterior fue de 15.67 y puedo llevar 5 cursos\"\n",
    "\n",
    "def test_obtenerCantidadRepetidas\n",
    "    print validate(3,obtenerCantidadRepetidas(@frase1,\"o\"))\n",
    "    print validate(4,obtenerCantidadRepetidas(@frase2,\"e\"))\n",
    "    print validate(4,obtenerCantidadRepetidas(@frase3,\"s\"))\n",
    "    print validate(0,obtenerCantidadRepetidas(@frase4,\"z\"))\n",
    "end\n",
    "\n",
    "def test_obtenerCantidadPalabras\n",
    "\tprint validate(3,obtenerCantidadPalabras(@frase1))\n",
    "\tprint validate(7,obtenerCantidadPalabras(@frase2))\n",
    "\tprint validate(11,obtenerCantidadPalabras(@frase3))\n",
    "\tprint validate(12,obtenerCantidadPalabras(@frase4))\n",
    "end\n",
    "\n",
    "def test_obtenerCantidadNumeros\n",
    "\tprint validate(0,obtenerCantidadNumeros(@frase1))\n",
    "\tprint validate(0,obtenerCantidadNumeros(@frase2))\n",
    "\tprint validate(4,obtenerCantidadNumeros(@frase3))\n",
    "\tprint validate(5,obtenerCantidadNumeros(@frase4))\n",
    "end\n",
    "\n",
    "def test\n",
    "  puts \"Test de prueba del programa\"\n",
    "  puts \"---------------------------\"\n",
    "  test_obtenerCantidadRepetidas\n",
    "  test_obtenerCantidadPalabras\n",
    "  test_obtenerCantidadNumeros\n",
    "  puts \"\"\n",
    "end\n",
    "\n",
    "test"
   ]
  }
 ],
 "metadata": {
  "kernelspec": {
   "display_name": "Ruby 2.5.1",
   "language": "ruby",
   "name": "ruby"
  },
  "language_info": {
   "file_extension": ".rb",
   "mimetype": "application/x-ruby",
   "name": "ruby",
   "version": "2.5.1"
  }
 },
 "nbformat": 4,
 "nbformat_minor": 2
}
