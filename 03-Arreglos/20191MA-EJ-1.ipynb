{
 "cells": [
  {
   "cell_type": "markdown",
   "metadata": {},
   "source": [
    "### Pregunta 1.- Ventas mensuales\n",
    "Una empresa vendedora de fotocopiadoras necesita calcular cual ha sido el volumen de ventas de cada uno de sus agentes comerciales durante el presente mes y en base a eso determinar distintos indicadores así como montos a pagar en comisión de ventas.\n",
    "\t\n",
    "Se le solicita:\n",
    "a)\tObtener el total de unidades vendidas durante el presente mes. Para eso se tiene como dato de entrada un arreglo con la cantidad de unidades vendidas por cada agente comercial.\n",
    "\n",
    "b)\tSi se sabe que la cuota de venta de cada vendedor es 5 unidades, determinar cuál es el porcentaje de vendedores que superaron la cuota de venta. Para eso se tiene como dato de entrada un arreglo con la cantidad de unidades vendidas por cada agente comercial.\n",
    "\n",
    "c)\tSe desea saber quién(es) fueron los agentes de ventas que superaron la cuota de venta.\n",
    "\n",
    "d)\tSi se sabe que por cada unidad vendida se tiene que pagar una comisión de ventas de 300 soles, determinar cuánto es lo que se tiene que pagar como comisión este mes.\n"
   ]
  },
  {
   "cell_type": "code",
   "execution_count": 1,
   "metadata": {},
   "outputs": [
    {
     "name": "stdout",
     "output_type": "stream",
     "text": [
      "---------------------------\n",
      "FFFFFFFF \n"
     ]
    }
   ],
   "source": [
    "def obtenerTotalVentas(ventas)\n",
    "\n",
    "end    \n",
    "\n",
    "def obtenerPorcentajeSuperoCuota(ventas)\n",
    "\n",
    "end\n",
    "\n",
    "def obtenerVendedoresSuperaronCuota(ventas,vendedores)\n",
    " \n",
    "end\n",
    "\n",
    "def determinarComisionPagar(ventas)\n",
    " \n",
    "end\n",
    "\n",
    "#--- zona de test ----\n",
    "\n",
    "def test_obtenerTotalVentas\n",
    "  print validate(49,obtenerTotalVentas(@ventas1))\n",
    "  print validate(64,obtenerTotalVentas(@ventas2))\n",
    "end\n",
    "\n",
    "def test_obtenerPorcentajeSuperoCuota\n",
    "  print validate(71.43,obtenerPorcentajeSuperoCuota(@ventas1))\n",
    "  print validate(57.14,obtenerPorcentajeSuperoCuota(@ventas2))\n",
    "end\n",
    "\n",
    "def test_obtenerVendedoresSuperaronCuota\n",
    "   print validate([\"Hugo\",\"Paco\",\"Luis\",\"Mario\",\"David\"],obtenerVendedoresSuperaronCuota(@ventas1,@vendedores1))\n",
    "   print validate([\"Roxana\",\"Mariana\",\"Valeria\",\"Susan\"],obtenerVendedoresSuperaronCuota(@ventas2,@vendedores2))  \n",
    "end\n",
    "\n",
    "def test_determinarComisionPagar\n",
    "   print validate(14700,determinarComisionPagar(@ventas1))\n",
    "   print validate(19200,determinarComisionPagar(@ventas2))\n",
    "end\n",
    "\n",
    "def validate (expected, value)\n",
    " expected == value ? \".\" : \"F\"\n",
    "end\n",
    "\n",
    "def test\n",
    "  \n",
    "  @ventas1 = [10,6,14,7,4,5,3]\n",
    "  @ventas2 = [15,16,1,0,4,15,13]\n",
    "\n",
    "  @vendedores1 = [\"Hugo\",\"Paco\",\"Luis\",\"Mario\",\"Jorge\",\"David\",\"Manuel\"]\n",
    "  @vendedores2 = [\"Roxana\",\"Mariana\",\"Daphne\",\"Jennifer\",\"Lilia\",\"Valeria\",\"Susan\"]\n",
    "  \n",
    "  puts \"---------------------------\"\n",
    "  test_obtenerTotalVentas\n",
    "  test_obtenerPorcentajeSuperoCuota\n",
    "  test_obtenerVendedoresSuperaronCuota\n",
    "  test_determinarComisionPagar\n",
    "  puts \" \"\n",
    "end\n",
    "test"
   ]
  }
 ],
 "metadata": {
  "kernelspec": {
   "display_name": "Ruby 2.5.1",
   "language": "ruby",
   "name": "ruby"
  },
  "language_info": {
   "file_extension": ".rb",
   "mimetype": "application/x-ruby",
   "name": "ruby",
   "version": "2.5.1"
  }
 },
 "nbformat": 4,
 "nbformat_minor": 2
}
