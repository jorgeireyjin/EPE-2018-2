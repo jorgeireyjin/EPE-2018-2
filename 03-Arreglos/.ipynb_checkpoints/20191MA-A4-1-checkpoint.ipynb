{
 "cells": [
  {
   "cell_type": "markdown",
   "metadata": {},
   "source": [
    "Escriba un subprograma que permita calcular el valor de la sumatoria de los N primeros términos de la serie:\n",
    "\n",
    "Suma = 1 + $\\frac{1}{2}$ + $\\frac{1}{4}$ + $\\frac{1}{8}$ + $\\frac{1}{16}$ + ... + + $\\frac{1}{N}$\n"
   ]
  },
  {
   "cell_type": "code",
   "execution_count": 1,
   "metadata": {},
   "outputs": [
    {
     "name": "stdout",
     "output_type": "stream",
     "text": [
      "Test de prueba del programa\n",
      "---------------------------\n",
      "FFF \n"
     ]
    }
   ],
   "source": [
    "def serie(numero)\n",
    "\n",
    "end\n",
    "\n",
    "#--- zona de test ----\n",
    "\n",
    "def test_serie\n",
    "\tprint validate(1.0, serie(0))\n",
    "    print validate(1.96875, serie(5))\n",
    "    print validate(1.998046875, serie(9))    \n",
    "end\n",
    "\n",
    "def validate (expected, value)\n",
    " expected == value ? \".\" : \"F\"\n",
    "end\n",
    "\n",
    "def test\n",
    "   \n",
    "  puts \"Test de prueba del programa\"\n",
    "  puts \"---------------------------\"\n",
    "  test_serie\n",
    "  puts \" \"\n",
    "end\n",
    "test"
   ]
  },
  {
   "cell_type": "code",
   "execution_count": null,
   "metadata": {},
   "outputs": [],
   "source": []
  }
 ],
 "metadata": {
  "kernelspec": {
   "display_name": "Ruby 2.5.1",
   "language": "ruby",
   "name": "ruby"
  },
  "language_info": {
   "file_extension": ".rb",
   "mimetype": "application/x-ruby",
   "name": "ruby",
   "version": "2.5.1"
  }
 },
 "nbformat": 4,
 "nbformat_minor": 2
}
