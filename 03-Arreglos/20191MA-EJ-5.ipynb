{
 "cells": [
  {
   "cell_type": "markdown",
   "metadata": {},
   "source": [
    "### Pregunta 5.- Sistema de Notas\n",
    "\n",
    "El colegio San Marcelo le solicita que elabore el sistema que permita automatizar la gestión de las notas. Por tanto, Usted, debe lograr implementar las siguientes funcionalidades.\n",
    "Se solicita lo siguiente:\n",
    "1.\tSubprograma que obtenga el promedio de las notas.\n",
    "2.\tSubprograma que obtenga la nota más alta del aula y el alumno que obtuvo dicha nota.\n",
    "3.\tSubprograma que obtenga el número de alumnos que obtuvieron notas superiores al promedio.\n"
   ]
  },
  {
   "cell_type": "code",
   "execution_count": 1,
   "metadata": {},
   "outputs": [
    {
     "name": "stdout",
     "output_type": "stream",
     "text": [
      "Test de prueba del programa\n",
      "---------------------------\n",
      "FFF \n",
      "FFF \n",
      "FFF \n"
     ]
    }
   ],
   "source": [
    "def calcularPromedio(dato)\n",
    "\n",
    "end\n",
    "\n",
    "def alumnoNotaMaxima(nombre,dato)\n",
    "\n",
    "end\n",
    "\n",
    "def superiorPromedio(nombre,dato)\n",
    "\n",
    "end\n",
    "\n",
    "#----------Zona de Test------------------\n",
    "\n",
    "def test_calcularPromedio\n",
    "\tprint validate(14, calcularPromedio(@nota))\n",
    "\tprint validate(13, calcularPromedio(@nota2))\n",
    "\tprint validate(16, calcularPromedio(@nota3))\n",
    "end\n",
    "\n",
    "def test_alumnoNotaMaxima\n",
    "\tprint validate(\"Roberto Vargas\", alumnoNotaMaxima(@alumno,@nota))\n",
    "\tprint validate(\"Denis Pozo\", alumnoNotaMaxima(@alumno2,@nota2))\n",
    "\tprint validate(\"Elizabeth Rosas\", alumnoNotaMaxima(@alumno3,@nota3))\n",
    "end\n",
    "    \n",
    "def test_superiorPromedio\n",
    "\tprint validate(2, superiorPromedio(@alumno,@nota))\n",
    "\tprint validate(3, superiorPromedio(@alumno2,@nota2))\n",
    "\tprint validate(3, superiorPromedio(@alumno3,@nota3))\n",
    "end\n",
    "\n",
    "#----------------zona de test-----------------\n",
    "\n",
    "def validate (expected, value)\n",
    " expected == value ? \".\" : \"F\"\n",
    "end\n",
    "\n",
    "def test\n",
    "\t@alumno=[\"Denis Pozo\",\"Juan Guerra\",\"Elizabeth Rosas\",\"Roberto Vargas\",\"Mayumi Tineo\"]\n",
    "\t@nota=[14,13,12,20,15]\n",
    "\t@alumno2=[\"Denis Pozo\",\"Juan Guerra\",\"Elizabeth Rosas\",\"Roberto Vargas\",\"Mayumi Tineo\"]\n",
    "\t@nota2=[17,9,12,16,15]\n",
    "\t@alumno3=[\"Denis Pozo\",\"Juan Guerra\",\"Elizabeth Rosas\",\"Roberto Vargas\",\"Mayumi Tineo\"]\n",
    "\t@nota3=[11,15,20,19,17]\n",
    "\tputs \"Test de prueba del programa\"\n",
    "\tputs \"---------------------------\"\n",
    "\ttest_calcularPromedio\n",
    "\tputs \" \"\n",
    "\ttest_alumnoNotaMaxima\n",
    "\tputs \" \"\n",
    "\ttest_superiorPromedio\n",
    "\tputs \" \"\n",
    "end\n",
    "test"
   ]
  }
 ],
 "metadata": {
  "kernelspec": {
   "display_name": "Ruby 2.5.1",
   "language": "ruby",
   "name": "ruby"
  },
  "language_info": {
   "file_extension": ".rb",
   "mimetype": "application/x-ruby",
   "name": "ruby",
   "version": "2.5.1"
  }
 },
 "nbformat": 4,
 "nbformat_minor": 2
}
