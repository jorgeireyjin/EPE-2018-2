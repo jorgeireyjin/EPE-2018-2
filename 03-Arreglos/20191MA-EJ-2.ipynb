{
 "cells": [
  {
   "cell_type": "markdown",
   "metadata": {},
   "source": [
    "### Pregunta 2.- Validación de documentos\n",
    "\n",
    "La universidad UNC necesita realizar validaciones a las tesis presentadas por los alumnos para la obtención del título profesional. Es por este motivo que se necesita la elaboración de un sistema que permita realizar una validación previa y rápida para luego realizar una de mayor detalle. \n",
    "\n",
    "Para la validación previa se necesita los siguientes subprogramas:\n",
    "\t\n",
    "e)\tDado dos textos, el subprograma deberá validar si la cantidad de palabras de cada texto son iguales. Si lo son debe devolver verdadero.\n",
    "\n",
    "f)\tDado un texto, el subprograma deberá determinar cuantas palabras que tengan pas de 6 letras existen en el texto\n",
    "\n",
    "g)\tDado un texto, el subprograma debe contar cuantas vocales y consonantes tiene el texto, tener en cuenta que los caracteres especiales se consideran como consonantes. Se debe determinar y retornar el porcentaje de cada uno. Por ejemplo [40.0, 60.0], donde hay 40% de vocales y 60% de consonantes.\n"
   ]
  },
  {
   "cell_type": "code",
   "execution_count": 1,
   "metadata": {},
   "outputs": [
    {
     "name": "stdout",
     "output_type": "stream",
     "text": [
      "---------------------------\n",
      "FFF \n",
      "FFF \n",
      "FFF \n"
     ]
    }
   ],
   "source": [
    "\n",
    "def validarparrafo(parrafo1, parrafo2)\n",
    "\n",
    "\n",
    "end    \n",
    "\n",
    "def validarcitas(parrafo)\n",
    "\n",
    "\n",
    "\n",
    "end\n",
    "\n",
    "def validartexto(parrafo)\n",
    "\n",
    "\n",
    "\n",
    "end\n",
    "\n",
    "#--- zona de test ----\n",
    "\n",
    "def test_validarparrafo\n",
    "  print validate(false,validarparrafo(@parrafo1,@parrafo2))\n",
    "  print validate(true,validarparrafo(@parrafo3,@parrafo4))\n",
    "  print validate(true,validarparrafo(@parrafo5,@parrafo6))\n",
    "\n",
    "end\n",
    "\n",
    "def test_validarcitas\n",
    "  print validate(4,validarcitas(@parrafo1))\n",
    "  print validate(6,validarcitas(@parrafo2))\n",
    "  print validate(7,validarcitas(@parrafo7))\n",
    "end\n",
    "\n",
    "def test_validartexto\n",
    "   print validate([30.09,69.91],validartexto(@parrafo3))\n",
    "   print validate([31.43,68.57],validartexto(@parrafo4))\n",
    "   print validate([44.19,55.81],validartexto(@parrafo5))\n",
    "end\n",
    "\n",
    "def validate (expected, value)\n",
    " expected == value ? \".\" : \"F\"\n",
    "end\n",
    "\n",
    "def test\n",
    "  \n",
    "  @parrafo1 = \"Esta es una prueba de plagio para revisar si la cantidad de palabras de uno y otro texto son similares\"\n",
    "  @parrafo2 = \"Esta es otra prueba a realizar para determinar si la cantidad de palabras puede ser en algun momento similar\"\n",
    "  @parrafo3 = \"Para poder comparar cantidad de palabrar, se debe\n",
    "               comparar si fueron escritas por la misma persona\"\n",
    "  @parrafo4 = \"Pero si no fueron escritas por la misma persona\n",
    "               entonces puede ser valido el texto escrito\"\n",
    "  @parrafo5 = \"Pero si alcazamos algo parecido a una copia\"\n",
    "  @parrafo6 = \"Puede haberse dado dicha copia porque asi es\"\n",
    "\n",
    "  @parrafo7 = \"De acuerdo a [Martillejo 2016] podemos determinar que existe un marcado incremento de los precios.\"\n",
    "\n",
    "  puts \"---------------------------\"\n",
    "  test_validarparrafo\n",
    "  puts \" \"\n",
    "  test_validarcitas\n",
    "  puts \" \"\n",
    "  test_validartexto\n",
    "  puts \" \"\n",
    "end\n",
    "test"
   ]
  }
 ],
 "metadata": {
  "kernelspec": {
   "display_name": "Ruby 2.5.1",
   "language": "ruby",
   "name": "ruby"
  },
  "language_info": {
   "file_extension": ".rb",
   "mimetype": "application/x-ruby",
   "name": "ruby",
   "version": "2.5.1"
  }
 },
 "nbformat": 4,
 "nbformat_minor": 2
}
