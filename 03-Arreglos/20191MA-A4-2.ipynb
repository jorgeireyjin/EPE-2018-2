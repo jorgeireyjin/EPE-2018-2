{
 "cells": [
  {
   "cell_type": "markdown",
   "metadata": {},
   "source": [
    "El colegio “Enseña mucho” organiza una kermesse todos los años, donde el objetivo es obtener fondos para arreglos adicionales para dicho colegio. Esta kermesse consta de juegos deportivos, tales como fulbito, basket y vóley; viandas para comer y juegos especiales como tumbalatas y otros.\n",
    "\n",
    "Este año se va a implementar un nuevo tipo de juego, que consiste en tragamonedas Smart. No es otra cosa que un grupo de tablets que te presentan cuatro filas de números (Cada fila puede ser un número del 0 al 9).\n",
    "\n",
    "El resultado de la jugada es procesado por un computador que maneja la cantidad de premios. Al computador no se le envían los 4 números, sino que se envía un solo número de 4 dígitos que contiene cada una de las filas.\n",
    "\n",
    "Para la distribución de los premios se ha definido la siguiente lógica de juego:\n",
    "\n",
    "<ul>\n",
    "<li>Si los cuatro dígitos son iguales, se le obsequia una “mochila para laptop” </li>\n",
    "<li>Si la suma de los dígitos del número es mayor a 20, se le obsequia una “casaca”.</li>\n",
    "<li>Si la suma de los dígitos del número está entre 10 y 20, se le obsequia una “polera”.</li>\n",
    "<li>Si no se cumple ninguna de las condiciones anteriores, le sale “sin premio”</li>\n",
    "</ul>\n",
    "\n",
    "Se solicita lo siguiente:\n",
    "<ol>\n",
    "<li>Desarrollar un subprograma que, dado un número de 4 cifras, determine si los cuatro dígitos son iguales.</li>\n",
    "<li>Desarrollar un subprograma que, dado un número, retorne la suma de sus dígitos.</li>\n",
    "<li>Desarrollar un subprograma que dado un número determine qué premio se debe de entregar.</li>\n",
    "</ol>"
   ]
  },
  {
   "cell_type": "code",
   "execution_count": 1,
   "metadata": {},
   "outputs": [
    {
     "name": "stdout",
     "output_type": "stream",
     "text": [
      "Test de prueba del programa\n",
      "---------------------------\n",
      "FFFFFFFFFFFF \n"
     ]
    }
   ],
   "source": [
    "def digitosIguales(numero)\n",
    "\n",
    "end\n",
    "\n",
    "def sumaDigitos(numero)\n",
    "\n",
    "end\n",
    "\n",
    "def determinarPremio(numero)\n",
    "\n",
    "end\n",
    "\n",
    "#--- zona de test ----\n",
    "\n",
    "\n",
    "def test_digitosIguales\n",
    "    print validate(false, digitosIguales(1325)) \n",
    "    print validate(true, digitosIguales(1111)) \n",
    "\tprint validate(true, digitosIguales(7777)) \n",
    "\tprint validate(false, digitosIguales(1452)) \n",
    "end\n",
    "\n",
    "\n",
    "def test_sumaDigitos\n",
    "    print validate(18, sumaDigitos(3258)) \n",
    "    print validate(17, sumaDigitos(1682)) \n",
    "\tprint validate(16, sumaDigitos(1627)) \n",
    "\tprint validate(13, sumaDigitos(4513)) \n",
    "end\n",
    "\n",
    "def test_determinarPremio\n",
    "    print validate(\"mochila para laptop\", determinarPremio(2222)) \n",
    "\tprint validate(\"polera\", determinarPremio(2432)) \n",
    "    print validate(\"casaca\", determinarPremio(8771)) \n",
    "\tprint validate(\"sin premio\", determinarPremio(1214))\n",
    "end\n",
    "\n",
    "\n",
    "def validate (expected, value)\n",
    " expected == value ? \".\" : \"F\"\n",
    "end\n",
    "\n",
    "def test\n",
    "  puts \"Test de prueba del programa\"\n",
    "  puts \"---------------------------\"\n",
    "  test_digitosIguales\n",
    "  test_sumaDigitos\n",
    "  test_determinarPremio\n",
    "  puts \" \"\n",
    "end\n",
    "\n",
    "test\n"
   ]
  },
  {
   "cell_type": "code",
   "execution_count": null,
   "metadata": {},
   "outputs": [],
   "source": []
  }
 ],
 "metadata": {
  "kernelspec": {
   "display_name": "Ruby 2.5.1",
   "language": "ruby",
   "name": "ruby"
  },
  "language_info": {
   "file_extension": ".rb",
   "mimetype": "application/x-ruby",
   "name": "ruby",
   "version": "2.5.1"
  }
 },
 "nbformat": 4,
 "nbformat_minor": 2
}
