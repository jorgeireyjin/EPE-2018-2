{
 "cells": [
  {
   "cell_type": "markdown",
   "metadata": {},
   "source": [
    "### Pregunta 2\n",
    "\n",
    "Se realizó una encuesta en las preferencias de visitas a un centro comercial. Se tuvieron los siguientes resultados:\n",
    "<table>\n",
    "    <tr>\n",
    "        <th>Centro Comercial</th>\n",
    "        <th>Encuestados</th>\n",
    "    </tr>\n",
    "    <tr>\n",
    "        <td>Centro Comercial 1 (CC1)</td>\n",
    "        <td>76</td>\n",
    "    </tr>\n",
    "    <tr>\n",
    "        <td>Centro Comercial 2 (CC2)</td>\n",
    "        <td>42</td>\n",
    "    </tr>\n",
    "    <tr>\n",
    "        <td>Centro Comercial 3 (CC3)</td>\n",
    "        <td>15</td>\n",
    "    </tr>\n",
    "    <tr>\n",
    "        <td>Centro Comercial 4 (CC4)</td>\n",
    "        <td>49</td>\n",
    "    </tr>\n",
    "    <tr>\n",
    "        <td>No opina (BN)</td>\n",
    "        <td>32</td>\n",
    "    </tr>\n",
    "</table>\n",
    "\n",
    "Elaborar un programa que, dado un centro comercial, permita:\n",
    "1.\tIndicar el número de encuestados que obtuvo.\n",
    "2.\tIndicar el porcentaje de encuestados que obtuvo.\n"
   ]
  },
  {
   "cell_type": "code",
   "execution_count": 2,
   "metadata": {},
   "outputs": [
    {
     "name": "stdout",
     "output_type": "stream",
     "text": [
      "Test de prueba del programa\n",
      "--------------------------\n",
      "FFFFFF \n"
     ]
    }
   ],
   "source": [
    "def numEncuestados(centrocomercial)\n",
    "\n",
    "end\n",
    "\n",
    "def porcEncuestados(centrocomercial)\n",
    "\n",
    "end\n",
    "\n",
    "#--- zona de test ----\n",
    "def test_numEncuestados\n",
    "    print validate(42, numEncuestados('CC2'))\n",
    "    print validate(76, numEncuestados('CC1'))\n",
    "    print validate(49, numEncuestados('CC4'))\n",
    "end\n",
    "\n",
    "def test_porcEncuestados\n",
    "    print validate(19.63, porcEncuestados('CC2'))\n",
    "    print validate(35.51, porcEncuestados('CC1'))\n",
    "    print validate(22.90, porcEncuestados('CC4'))\n",
    "end\n",
    "\n",
    "def validate (expected, value)\n",
    "  expected == value ? \".\" : \"F\"\n",
    "end\n",
    "\n",
    "def test\n",
    "    puts \"Test de prueba del programa\"\n",
    "    puts \"--------------------------\"\n",
    "    test_numEncuestados  \n",
    "    test_porcEncuestados  \n",
    "    puts \" \"\n",
    "end\n",
    "test"
   ]
  }
 ],
 "metadata": {
  "kernelspec": {
   "display_name": "Ruby 2.5.1",
   "language": "ruby",
   "name": "ruby"
  },
  "language_info": {
   "file_extension": ".rb",
   "mimetype": "application/x-ruby",
   "name": "ruby",
   "version": "2.5.1"
  }
 },
 "nbformat": 4,
 "nbformat_minor": 2
}
